{
 "cells": [
  {
   "cell_type": "code",
   "execution_count": null,
   "metadata": {},
   "outputs": [],
   "source": [
    "import openai\n",
    "import numpy as np\n",
    "import pandas as pd\n",
    "import json\n",
    "import os\n",
    "from typing import Optional, List, Dict, Any\n",
    "import sys\n",
    "\n",
    "from rdkit import Chem\n",
    "from rdkit.Chem import AllChem\n",
    "from rdkit.Chem import Descriptors\n",
    "from rdkit.Contrib.SA_Score import sascorer\n",
    "import time\n",
    "from utils.utils import *"
   ]
  },
  {
   "cell_type": "code",
   "execution_count": null,
   "metadata": {},
   "outputs": [],
   "source": [
    "system_prompt = \"You are an AI with expertise in chemistry and molecular design. Your task is to generate novel, chemically plausible molecules with potential applications in areas like drug design or material science. When generating molecules:\\n \\\n",
    "- Ensure chemical validity (bonding, valence, etc.).\\n \\\n",
    "- Provide structural information (e.g., SMILES, IUPAC names).\\n \\\n",
    "- Suggest functional groups, stereochemistry, and potential reactivity.\\n \\\n",
    "- Tailor molecules to specific properties (e.g., hydrophobicity, polarity) if requested.\\n \\\n",
    "- Be creative and propose original, viable structures.\\n \\\n",
    "For each request, generate one or more novel molecules based on the given criteria and, if relevant, suggest synthesis routes or applications.\""
   ]
  },
  {
   "cell_type": "code",
   "execution_count": null,
   "metadata": {},
   "outputs": [],
   "source": [
    "query = \"Please generate SMILES Strings for a novel molecule for inhibiting DBH, Dopamine Beta Hydroxylase, which statisfies the following criteria: \\n \\\n",
    "    1. It should have an estimated binding affinity at least as good as Nepicastat; and\\n \\\n",
    "    2. It should be synthesizable in no more than 5 steps; and\\n \\\n",
    "    3. The molecules should be contain Esculetin (C1=CC(=O)OC2=CC(=C(C=C21)O)O) or an Esculetin-like substructure;\\n \\\n",
    "    4. Include estimates of binding affinity; and\\n \\\n",
    "    5. Synthesis should use reasonably priced starting materials.\\n \\\n",
    "    Here are some known inhibitors with their name, SMILES and binding affinity:\\n \\\n",
    "    Disulfiram: CCN(CC)C(=S)SSC(=S)N(CC)CC, 5.11\\n \\\n",
    "    Nepicastat: C1CC2=C(C=C(C=C2C[C@H]1N3C(=CNC3=S)CN)F)F.Cl, 5.291\\n \\\n",
    "    Tropolone: C1=CC=C(C(=O)C=C1)O, 2.786\\n \\\n",
    "    Etamicastat: C1[C@H](COC2=C1C=C(C=C2F)F)N3C(=CNC3=S)CCN, 5.883\\n \\\n",
    "    Zamicastat: C1[C@H](COC2=C1C=C(C=C2F)F)N3C(=CNC3=S)CCNCC4=CC=CC=C4, 6.378.\\n \\\n",
    "    First generate a molecule with binding affinity better than Nepicastat, then using that try to improve the binding affinity further till we get to 7. Do this iterative generation and optimization for at least 3 iterations.\""
   ]
  },
  {
   "cell_type": "code",
   "execution_count": null,
   "metadata": {},
   "outputs": [],
   "source": [
    "# response = get_response_from_gpt(system_prompt=system_prompt,\n",
    "#                                 query=query,\n",
    "#                                 model = \"o1-mini\",\n",
    "#                                 temperature = 0.5,\n",
    "#                                 max_tokens = 4096)\n",
    "\n"
   ]
  },
  {
   "cell_type": "code",
   "execution_count": null,
   "metadata": {},
   "outputs": [],
   "source": [
    "# print(response)"
   ]
  },
  {
   "cell_type": "code",
   "execution_count": null,
   "metadata": {},
   "outputs": [],
   "source": [
    "openai.api_key = 'ADD API KEY HERE'\n",
    "\n",
    "message = [{\n",
    "        'role': 'user',\n",
    "        'content': query\n",
    "    }]\n",
    "response = openai.chat.completions.create(\n",
    "    # model=model,\n",
    "    model = \"o1-preview\",\n",
    "    messages=message,\n",
    "    # max_completion_tokens=4096,\n",
    "    # temperature=0.5,\n",
    "    n=1,\n",
    "    timeout=60)\n"
   ]
  },
  {
   "cell_type": "code",
   "execution_count": null,
   "metadata": {},
   "outputs": [],
   "source": [
    "print(response.choices[0].message.content)"
   ]
  },
  {
   "cell_type": "code",
   "execution_count": null,
   "metadata": {},
   "outputs": [],
   "source": []
  }
 ],
 "metadata": {
  "kernelspec": {
   "display_name": "Python 3",
   "language": "python",
   "name": "python3"
  },
  "language_info": {
   "codemirror_mode": {
    "name": "ipython",
    "version": 3
   },
   "file_extension": ".py",
   "mimetype": "text/x-python",
   "name": "python",
   "nbconvert_exporter": "python",
   "pygments_lexer": "ipython3",
   "version": "3.10.9"
  }
 },
 "nbformat": 4,
 "nbformat_minor": 2
}
